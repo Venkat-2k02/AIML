{
  "nbformat": 4,
  "nbformat_minor": 0,
  "metadata": {
    "colab": {
      "provenance": []
    },
    "kernelspec": {
      "name": "python3",
      "display_name": "Python 3"
    },
    "language_info": {
      "name": "python"
    }
  },
  "cells": [
    {
      "cell_type": "code",
      "execution_count": null,
      "metadata": {
        "id": "xo1lsdCHPNUH"
      },
      "outputs": [],
      "source": [
        "import pandas as pd"
      ]
    },
    {
      "cell_type": "code",
      "source": [
        "# Import the data set for KNN algorithm\n",
        "dataset = pd.read_csv('purchase_or_not.csv')\n",
        "# storing the input values in the X variable\n",
        "X = dataset.iloc[:,[0,1]].values\n",
        "# storing all the ouputs in y variable\n",
        "y = dataset.iloc[:,2].values"
      ],
      "metadata": {
        "id": "BqAWO7HKldRJ"
      },
      "execution_count": null,
      "outputs": []
    },
    {
      "cell_type": "code",
      "source": [
        "# importing the train_test_split method from sklearn\n",
        "from sklearn.model_selection import train_test_split\n",
        "# splitting the data\n",
        "X_train, X_test, y_train, y_test = train_test_split(X, y, test_size=0.30, random_state=0)"
      ],
      "metadata": {
        "id": "EmyuZyFClmsr"
      },
      "execution_count": null,
      "outputs": []
    },
    {
      "cell_type": "code",
      "source": [
        "#scaling data\n",
        "# applying standard scale method\n",
        "from sklearn.preprocessing import StandardScaler\n",
        "sc = StandardScaler()\n",
        "# scaling training and testing data set\n",
        "X_train = sc.fit_transform(X_train)\n",
        "X_test = sc.transform(X_test)"
      ],
      "metadata": {
        "id": "wtTK_luclqfX"
      },
      "execution_count": null,
      "outputs": []
    },
    {
      "cell_type": "code",
      "source": [
        "# importing KNN algorithm\n",
        "from sklearn.neighbors import KNeighborsClassifier\n",
        "# K value set to be 3\n",
        "classifer = KNeighborsClassifier(n_neighbors=4)#odd number will be taken\n",
        "# model training\n",
        "classifer.fit(X_train,y_train)\n",
        "# testing the model\n",
        "y_pred= classifer.predict(X_test)"
      ],
      "metadata": {
        "id": "G58GKg7QlujE"
      },
      "execution_count": null,
      "outputs": []
    },
    {
      "cell_type": "code",
      "source": [
        "# importing accuracy_score\n",
        "from sklearn.metrics import accuracy_score\n",
        "# printing accuracy\n",
        "print(accuracy_score(y_test,y_pred))"
      ],
      "metadata": {
        "colab": {
          "base_uri": "https://localhost:8080/"
        },
        "id": "QLi7-hkXlxed",
        "outputId": "e6a5ca87-ecc8-44cc-93e1-5d07e28080ca"
      },
      "execution_count": null,
      "outputs": [
        {
          "output_type": "stream",
          "name": "stdout",
          "text": [
            "0.8484848484848485\n"
          ]
        }
      ]
    },
    {
      "cell_type": "code",
      "source": [],
      "metadata": {
        "id": "RZJhhG10Fm6X"
      },
      "execution_count": null,
      "outputs": []
    }
  ]
}